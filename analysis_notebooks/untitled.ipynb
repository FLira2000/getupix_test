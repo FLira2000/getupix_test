{
 "metadata": {
  "language_info": {
   "codemirror_mode": {
    "name": "ipython",
    "version": 3
   },
   "file_extension": ".py",
   "mimetype": "text/x-python",
   "name": "python",
   "nbconvert_exporter": "python",
   "pygments_lexer": "ipython3",
   "version": "3.7.7-final"
  },
  "orig_nbformat": 2,
  "kernelspec": {
   "name": "python3",
   "display_name": "Python 3.7.7 64-bit ('base': conda)",
   "metadata": {
    "interpreter": {
     "hash": "ff9b6033e4e5bfa856b14a701d4fbd62eaf3968921bdcaa1c958afdae5de6108"
    }
   }
  }
 },
 "nbformat": 4,
 "nbformat_minor": 2,
 "cells": [
  {
   "cell_type": "code",
   "execution_count": 1,
   "metadata": {},
   "outputs": [],
   "source": [
    "import pandas as pd"
   ]
  },
  {
   "cell_type": "code",
   "execution_count": 2,
   "metadata": {},
   "outputs": [],
   "source": [
    "file = open('../owid_covid_data.csv')"
   ]
  },
  {
   "cell_type": "code",
   "execution_count": 3,
   "metadata": {},
   "outputs": [
    {
     "output_type": "execute_result",
     "data": {
      "text/plain": [
       "  iso_code continent     location        date  total_cases  new_cases  \\\n",
       "0      AFG      Asia  Afghanistan  2020-02-24          1.0        1.0   \n",
       "1      AFG      Asia  Afghanistan  2020-02-25          1.0        0.0   \n",
       "2      AFG      Asia  Afghanistan  2020-02-26          1.0        0.0   \n",
       "3      AFG      Asia  Afghanistan  2020-02-27          1.0        0.0   \n",
       "4      AFG      Asia  Afghanistan  2020-02-28          1.0        0.0   \n",
       "5      AFG      Asia  Afghanistan  2020-02-29          1.0        0.0   \n",
       "6      AFG      Asia  Afghanistan  2020-03-01          1.0        0.0   \n",
       "7      AFG      Asia  Afghanistan  2020-03-02          1.0        0.0   \n",
       "8      AFG      Asia  Afghanistan  2020-03-03          2.0        1.0   \n",
       "9      AFG      Asia  Afghanistan  2020-03-04          4.0        2.0   \n",
       "\n",
       "   new_cases_smoothed  total_deaths  new_deaths  new_deaths_smoothed  ...  \\\n",
       "0                 NaN           NaN         NaN                  NaN  ...   \n",
       "1                 NaN           NaN         NaN                  NaN  ...   \n",
       "2                 NaN           NaN         NaN                  NaN  ...   \n",
       "3                 NaN           NaN         NaN                  NaN  ...   \n",
       "4                 NaN           NaN         NaN                  NaN  ...   \n",
       "5               0.143           NaN         NaN                  0.0  ...   \n",
       "6               0.143           NaN         NaN                  0.0  ...   \n",
       "7               0.000           NaN         NaN                  0.0  ...   \n",
       "8               0.143           NaN         NaN                  0.0  ...   \n",
       "9               0.429           NaN         NaN                  0.0  ...   \n",
       "\n",
       "   gdp_per_capita  extreme_poverty  cardiovasc_death_rate  \\\n",
       "0        1803.987              NaN                597.029   \n",
       "1        1803.987              NaN                597.029   \n",
       "2        1803.987              NaN                597.029   \n",
       "3        1803.987              NaN                597.029   \n",
       "4        1803.987              NaN                597.029   \n",
       "5        1803.987              NaN                597.029   \n",
       "6        1803.987              NaN                597.029   \n",
       "7        1803.987              NaN                597.029   \n",
       "8        1803.987              NaN                597.029   \n",
       "9        1803.987              NaN                597.029   \n",
       "\n",
       "   diabetes_prevalence  female_smokers  male_smokers  handwashing_facilities  \\\n",
       "0                 9.59             NaN           NaN                  37.746   \n",
       "1                 9.59             NaN           NaN                  37.746   \n",
       "2                 9.59             NaN           NaN                  37.746   \n",
       "3                 9.59             NaN           NaN                  37.746   \n",
       "4                 9.59             NaN           NaN                  37.746   \n",
       "5                 9.59             NaN           NaN                  37.746   \n",
       "6                 9.59             NaN           NaN                  37.746   \n",
       "7                 9.59             NaN           NaN                  37.746   \n",
       "8                 9.59             NaN           NaN                  37.746   \n",
       "9                 9.59             NaN           NaN                  37.746   \n",
       "\n",
       "   hospital_beds_per_thousand  life_expectancy  human_development_index  \n",
       "0                         0.5            64.83                    0.511  \n",
       "1                         0.5            64.83                    0.511  \n",
       "2                         0.5            64.83                    0.511  \n",
       "3                         0.5            64.83                    0.511  \n",
       "4                         0.5            64.83                    0.511  \n",
       "5                         0.5            64.83                    0.511  \n",
       "6                         0.5            64.83                    0.511  \n",
       "7                         0.5            64.83                    0.511  \n",
       "8                         0.5            64.83                    0.511  \n",
       "9                         0.5            64.83                    0.511  \n",
       "\n",
       "[10 rows x 59 columns]"
      ],
      "text/html": "<div>\n<style scoped>\n    .dataframe tbody tr th:only-of-type {\n        vertical-align: middle;\n    }\n\n    .dataframe tbody tr th {\n        vertical-align: top;\n    }\n\n    .dataframe thead th {\n        text-align: right;\n    }\n</style>\n<table border=\"1\" class=\"dataframe\">\n  <thead>\n    <tr style=\"text-align: right;\">\n      <th></th>\n      <th>iso_code</th>\n      <th>continent</th>\n      <th>location</th>\n      <th>date</th>\n      <th>total_cases</th>\n      <th>new_cases</th>\n      <th>new_cases_smoothed</th>\n      <th>total_deaths</th>\n      <th>new_deaths</th>\n      <th>new_deaths_smoothed</th>\n      <th>...</th>\n      <th>gdp_per_capita</th>\n      <th>extreme_poverty</th>\n      <th>cardiovasc_death_rate</th>\n      <th>diabetes_prevalence</th>\n      <th>female_smokers</th>\n      <th>male_smokers</th>\n      <th>handwashing_facilities</th>\n      <th>hospital_beds_per_thousand</th>\n      <th>life_expectancy</th>\n      <th>human_development_index</th>\n    </tr>\n  </thead>\n  <tbody>\n    <tr>\n      <th>0</th>\n      <td>AFG</td>\n      <td>Asia</td>\n      <td>Afghanistan</td>\n      <td>2020-02-24</td>\n      <td>1.0</td>\n      <td>1.0</td>\n      <td>NaN</td>\n      <td>NaN</td>\n      <td>NaN</td>\n      <td>NaN</td>\n      <td>...</td>\n      <td>1803.987</td>\n      <td>NaN</td>\n      <td>597.029</td>\n      <td>9.59</td>\n      <td>NaN</td>\n      <td>NaN</td>\n      <td>37.746</td>\n      <td>0.5</td>\n      <td>64.83</td>\n      <td>0.511</td>\n    </tr>\n    <tr>\n      <th>1</th>\n      <td>AFG</td>\n      <td>Asia</td>\n      <td>Afghanistan</td>\n      <td>2020-02-25</td>\n      <td>1.0</td>\n      <td>0.0</td>\n      <td>NaN</td>\n      <td>NaN</td>\n      <td>NaN</td>\n      <td>NaN</td>\n      <td>...</td>\n      <td>1803.987</td>\n      <td>NaN</td>\n      <td>597.029</td>\n      <td>9.59</td>\n      <td>NaN</td>\n      <td>NaN</td>\n      <td>37.746</td>\n      <td>0.5</td>\n      <td>64.83</td>\n      <td>0.511</td>\n    </tr>\n    <tr>\n      <th>2</th>\n      <td>AFG</td>\n      <td>Asia</td>\n      <td>Afghanistan</td>\n      <td>2020-02-26</td>\n      <td>1.0</td>\n      <td>0.0</td>\n      <td>NaN</td>\n      <td>NaN</td>\n      <td>NaN</td>\n      <td>NaN</td>\n      <td>...</td>\n      <td>1803.987</td>\n      <td>NaN</td>\n      <td>597.029</td>\n      <td>9.59</td>\n      <td>NaN</td>\n      <td>NaN</td>\n      <td>37.746</td>\n      <td>0.5</td>\n      <td>64.83</td>\n      <td>0.511</td>\n    </tr>\n    <tr>\n      <th>3</th>\n      <td>AFG</td>\n      <td>Asia</td>\n      <td>Afghanistan</td>\n      <td>2020-02-27</td>\n      <td>1.0</td>\n      <td>0.0</td>\n      <td>NaN</td>\n      <td>NaN</td>\n      <td>NaN</td>\n      <td>NaN</td>\n      <td>...</td>\n      <td>1803.987</td>\n      <td>NaN</td>\n      <td>597.029</td>\n      <td>9.59</td>\n      <td>NaN</td>\n      <td>NaN</td>\n      <td>37.746</td>\n      <td>0.5</td>\n      <td>64.83</td>\n      <td>0.511</td>\n    </tr>\n    <tr>\n      <th>4</th>\n      <td>AFG</td>\n      <td>Asia</td>\n      <td>Afghanistan</td>\n      <td>2020-02-28</td>\n      <td>1.0</td>\n      <td>0.0</td>\n      <td>NaN</td>\n      <td>NaN</td>\n      <td>NaN</td>\n      <td>NaN</td>\n      <td>...</td>\n      <td>1803.987</td>\n      <td>NaN</td>\n      <td>597.029</td>\n      <td>9.59</td>\n      <td>NaN</td>\n      <td>NaN</td>\n      <td>37.746</td>\n      <td>0.5</td>\n      <td>64.83</td>\n      <td>0.511</td>\n    </tr>\n    <tr>\n      <th>5</th>\n      <td>AFG</td>\n      <td>Asia</td>\n      <td>Afghanistan</td>\n      <td>2020-02-29</td>\n      <td>1.0</td>\n      <td>0.0</td>\n      <td>0.143</td>\n      <td>NaN</td>\n      <td>NaN</td>\n      <td>0.0</td>\n      <td>...</td>\n      <td>1803.987</td>\n      <td>NaN</td>\n      <td>597.029</td>\n      <td>9.59</td>\n      <td>NaN</td>\n      <td>NaN</td>\n      <td>37.746</td>\n      <td>0.5</td>\n      <td>64.83</td>\n      <td>0.511</td>\n    </tr>\n    <tr>\n      <th>6</th>\n      <td>AFG</td>\n      <td>Asia</td>\n      <td>Afghanistan</td>\n      <td>2020-03-01</td>\n      <td>1.0</td>\n      <td>0.0</td>\n      <td>0.143</td>\n      <td>NaN</td>\n      <td>NaN</td>\n      <td>0.0</td>\n      <td>...</td>\n      <td>1803.987</td>\n      <td>NaN</td>\n      <td>597.029</td>\n      <td>9.59</td>\n      <td>NaN</td>\n      <td>NaN</td>\n      <td>37.746</td>\n      <td>0.5</td>\n      <td>64.83</td>\n      <td>0.511</td>\n    </tr>\n    <tr>\n      <th>7</th>\n      <td>AFG</td>\n      <td>Asia</td>\n      <td>Afghanistan</td>\n      <td>2020-03-02</td>\n      <td>1.0</td>\n      <td>0.0</td>\n      <td>0.000</td>\n      <td>NaN</td>\n      <td>NaN</td>\n      <td>0.0</td>\n      <td>...</td>\n      <td>1803.987</td>\n      <td>NaN</td>\n      <td>597.029</td>\n      <td>9.59</td>\n      <td>NaN</td>\n      <td>NaN</td>\n      <td>37.746</td>\n      <td>0.5</td>\n      <td>64.83</td>\n      <td>0.511</td>\n    </tr>\n    <tr>\n      <th>8</th>\n      <td>AFG</td>\n      <td>Asia</td>\n      <td>Afghanistan</td>\n      <td>2020-03-03</td>\n      <td>2.0</td>\n      <td>1.0</td>\n      <td>0.143</td>\n      <td>NaN</td>\n      <td>NaN</td>\n      <td>0.0</td>\n      <td>...</td>\n      <td>1803.987</td>\n      <td>NaN</td>\n      <td>597.029</td>\n      <td>9.59</td>\n      <td>NaN</td>\n      <td>NaN</td>\n      <td>37.746</td>\n      <td>0.5</td>\n      <td>64.83</td>\n      <td>0.511</td>\n    </tr>\n    <tr>\n      <th>9</th>\n      <td>AFG</td>\n      <td>Asia</td>\n      <td>Afghanistan</td>\n      <td>2020-03-04</td>\n      <td>4.0</td>\n      <td>2.0</td>\n      <td>0.429</td>\n      <td>NaN</td>\n      <td>NaN</td>\n      <td>0.0</td>\n      <td>...</td>\n      <td>1803.987</td>\n      <td>NaN</td>\n      <td>597.029</td>\n      <td>9.59</td>\n      <td>NaN</td>\n      <td>NaN</td>\n      <td>37.746</td>\n      <td>0.5</td>\n      <td>64.83</td>\n      <td>0.511</td>\n    </tr>\n  </tbody>\n</table>\n<p>10 rows × 59 columns</p>\n</div>"
     },
     "metadata": {},
     "execution_count": 3
    }
   ],
   "source": [
    "#uma serie temporal\n",
    "df = pd.read_csv(file)\n",
    "df.head(10)"
   ]
  },
  {
   "cell_type": "code",
   "execution_count": 4,
   "metadata": {},
   "outputs": [
    {
     "output_type": "execute_result",
     "data": {
      "text/plain": [
       "array(['Afghanistan', 'Africa', 'Albania', 'Algeria', 'Andorra', 'Angola',\n",
       "       'Anguilla', 'Antigua and Barbuda', 'Argentina', 'Armenia', 'Asia',\n",
       "       'Australia', 'Austria', 'Azerbaijan', 'Bahamas', 'Bahrain',\n",
       "       'Bangladesh', 'Barbados', 'Belarus', 'Belgium', 'Belize', 'Benin',\n",
       "       'Bermuda', 'Bhutan', 'Bolivia', 'Bosnia and Herzegovina',\n",
       "       'Botswana', 'Brazil', 'Brunei', 'Bulgaria', 'Burkina Faso',\n",
       "       'Burundi', 'Cambodia', 'Cameroon', 'Canada', 'Cape Verde',\n",
       "       'Cayman Islands', 'Central African Republic', 'Chad', 'Chile',\n",
       "       'China', 'Colombia', 'Comoros', 'Congo', 'Costa Rica',\n",
       "       \"Cote d'Ivoire\", 'Croatia', 'Cuba', 'Cyprus', 'Czechia',\n",
       "       'Democratic Republic of Congo', 'Denmark', 'Djibouti', 'Dominica',\n",
       "       'Dominican Republic', 'Ecuador', 'Egypt', 'El Salvador',\n",
       "       'Equatorial Guinea', 'Eritrea', 'Estonia', 'Eswatini', 'Ethiopia',\n",
       "       'Europe', 'European Union', 'Faeroe Islands', 'Falkland Islands',\n",
       "       'Fiji', 'Finland', 'France', 'Gabon', 'Gambia', 'Georgia',\n",
       "       'Germany', 'Ghana', 'Gibraltar', 'Greece', 'Greenland', 'Grenada',\n",
       "       'Guatemala', 'Guernsey', 'Guinea', 'Guinea-Bissau', 'Guyana',\n",
       "       'Haiti', 'Honduras', 'Hong Kong', 'Hungary', 'Iceland', 'India',\n",
       "       'Indonesia', 'International', 'Iran', 'Iraq', 'Ireland',\n",
       "       'Isle of Man', 'Israel', 'Italy', 'Jamaica', 'Japan', 'Jersey',\n",
       "       'Jordan', 'Kazakhstan', 'Kenya', 'Kosovo', 'Kuwait', 'Kyrgyzstan',\n",
       "       'Laos', 'Latvia', 'Lebanon', 'Lesotho', 'Liberia', 'Libya',\n",
       "       'Liechtenstein', 'Lithuania', 'Luxembourg', 'Macao', 'Madagascar',\n",
       "       'Malawi', 'Malaysia', 'Maldives', 'Mali', 'Malta',\n",
       "       'Marshall Islands', 'Mauritania', 'Mauritius', 'Mexico',\n",
       "       'Micronesia (country)', 'Moldova', 'Monaco', 'Mongolia',\n",
       "       'Montenegro', 'Montserrat', 'Morocco', 'Mozambique', 'Myanmar',\n",
       "       'Namibia', 'Nepal', 'Netherlands', 'New Zealand', 'Nicaragua',\n",
       "       'Niger', 'Nigeria', 'North America', 'North Macedonia',\n",
       "       'Northern Cyprus', 'Norway', 'Oceania', 'Oman', 'Pakistan',\n",
       "       'Palestine', 'Panama', 'Papua New Guinea', 'Paraguay', 'Peru',\n",
       "       'Philippines', 'Poland', 'Portugal', 'Qatar', 'Romania', 'Russia',\n",
       "       'Rwanda', 'Saint Helena', 'Saint Kitts and Nevis', 'Saint Lucia',\n",
       "       'Saint Vincent and the Grenadines', 'Samoa', 'San Marino',\n",
       "       'Sao Tome and Principe', 'Saudi Arabia', 'Senegal', 'Serbia',\n",
       "       'Seychelles', 'Sierra Leone', 'Singapore', 'Slovakia', 'Slovenia',\n",
       "       'Solomon Islands', 'Somalia', 'South Africa', 'South America',\n",
       "       'South Korea', 'South Sudan', 'Spain', 'Sri Lanka', 'Sudan',\n",
       "       'Suriname', 'Sweden', 'Switzerland', 'Syria', 'Taiwan',\n",
       "       'Tajikistan', 'Tanzania', 'Thailand', 'Timor', 'Togo',\n",
       "       'Trinidad and Tobago', 'Tunisia', 'Turkey',\n",
       "       'Turks and Caicos Islands', 'Uganda', 'Ukraine',\n",
       "       'United Arab Emirates', 'United Kingdom', 'United States',\n",
       "       'Uruguay', 'Uzbekistan', 'Vanuatu', 'Vatican', 'Venezuela',\n",
       "       'Vietnam', 'World', 'Yemen', 'Zambia', 'Zimbabwe'], dtype=object)"
      ]
     },
     "metadata": {},
     "execution_count": 4
    }
   ],
   "source": [
    "#ok pensei que fossem menos\n",
    "df.location.unique()"
   ]
  },
  {
   "cell_type": "code",
   "execution_count": 5,
   "metadata": {},
   "outputs": [
    {
     "output_type": "execute_result",
     "data": {
      "text/plain": [
       "215"
      ]
     },
     "metadata": {},
     "execution_count": 5
    }
   ],
   "source": [
    "#mais do que a quantidade de países reconhecidos no mundo? analise.\n",
    "len(df.location.unique())"
   ]
  },
  {
   "source": [
    "Aparentemente temos além de países, regiões consideradas como 'independentes' o suficiente para manterem status internacional."
   ],
   "cell_type": "markdown",
   "metadata": {}
  },
  {
   "cell_type": "code",
   "execution_count": 7,
   "metadata": {},
   "outputs": [
    {
     "output_type": "execute_result",
     "data": {
      "text/plain": [
       "       iso_code continent       location        date  total_cases  new_cases  \\\n",
       "60343  OWID_SAM       NaN  South America  2020-02-22          NaN        0.0   \n",
       "60344  OWID_SAM       NaN  South America  2020-02-23          2.0        2.0   \n",
       "60345  OWID_SAM       NaN  South America  2020-02-24          2.0        0.0   \n",
       "60346  OWID_SAM       NaN  South America  2020-02-25          2.0        0.0   \n",
       "60347  OWID_SAM       NaN  South America  2020-02-26          3.0        1.0   \n",
       "\n",
       "       new_cases_smoothed  total_deaths  new_deaths  new_deaths_smoothed  ...  \\\n",
       "60343                 NaN           NaN         0.0                  NaN  ...   \n",
       "60344                 NaN           NaN         0.0                  NaN  ...   \n",
       "60345                 NaN           NaN         0.0                  NaN  ...   \n",
       "60346                 NaN           NaN         0.0                  NaN  ...   \n",
       "60347                 NaN           NaN         0.0                  NaN  ...   \n",
       "\n",
       "       gdp_per_capita  extreme_poverty  cardiovasc_death_rate  \\\n",
       "60343             NaN              NaN                    NaN   \n",
       "60344             NaN              NaN                    NaN   \n",
       "60345             NaN              NaN                    NaN   \n",
       "60346             NaN              NaN                    NaN   \n",
       "60347             NaN              NaN                    NaN   \n",
       "\n",
       "       diabetes_prevalence  female_smokers  male_smokers  \\\n",
       "60343                  NaN             NaN           NaN   \n",
       "60344                  NaN             NaN           NaN   \n",
       "60345                  NaN             NaN           NaN   \n",
       "60346                  NaN             NaN           NaN   \n",
       "60347                  NaN             NaN           NaN   \n",
       "\n",
       "       handwashing_facilities  hospital_beds_per_thousand  life_expectancy  \\\n",
       "60343                     NaN                         NaN              NaN   \n",
       "60344                     NaN                         NaN              NaN   \n",
       "60345                     NaN                         NaN              NaN   \n",
       "60346                     NaN                         NaN              NaN   \n",
       "60347                     NaN                         NaN              NaN   \n",
       "\n",
       "       human_development_index  \n",
       "60343                      NaN  \n",
       "60344                      NaN  \n",
       "60345                      NaN  \n",
       "60346                      NaN  \n",
       "60347                      NaN  \n",
       "\n",
       "[5 rows x 59 columns]"
      ],
      "text/html": "<div>\n<style scoped>\n    .dataframe tbody tr th:only-of-type {\n        vertical-align: middle;\n    }\n\n    .dataframe tbody tr th {\n        vertical-align: top;\n    }\n\n    .dataframe thead th {\n        text-align: right;\n    }\n</style>\n<table border=\"1\" class=\"dataframe\">\n  <thead>\n    <tr style=\"text-align: right;\">\n      <th></th>\n      <th>iso_code</th>\n      <th>continent</th>\n      <th>location</th>\n      <th>date</th>\n      <th>total_cases</th>\n      <th>new_cases</th>\n      <th>new_cases_smoothed</th>\n      <th>total_deaths</th>\n      <th>new_deaths</th>\n      <th>new_deaths_smoothed</th>\n      <th>...</th>\n      <th>gdp_per_capita</th>\n      <th>extreme_poverty</th>\n      <th>cardiovasc_death_rate</th>\n      <th>diabetes_prevalence</th>\n      <th>female_smokers</th>\n      <th>male_smokers</th>\n      <th>handwashing_facilities</th>\n      <th>hospital_beds_per_thousand</th>\n      <th>life_expectancy</th>\n      <th>human_development_index</th>\n    </tr>\n  </thead>\n  <tbody>\n    <tr>\n      <th>60343</th>\n      <td>OWID_SAM</td>\n      <td>NaN</td>\n      <td>South America</td>\n      <td>2020-02-22</td>\n      <td>NaN</td>\n      <td>0.0</td>\n      <td>NaN</td>\n      <td>NaN</td>\n      <td>0.0</td>\n      <td>NaN</td>\n      <td>...</td>\n      <td>NaN</td>\n      <td>NaN</td>\n      <td>NaN</td>\n      <td>NaN</td>\n      <td>NaN</td>\n      <td>NaN</td>\n      <td>NaN</td>\n      <td>NaN</td>\n      <td>NaN</td>\n      <td>NaN</td>\n    </tr>\n    <tr>\n      <th>60344</th>\n      <td>OWID_SAM</td>\n      <td>NaN</td>\n      <td>South America</td>\n      <td>2020-02-23</td>\n      <td>2.0</td>\n      <td>2.0</td>\n      <td>NaN</td>\n      <td>NaN</td>\n      <td>0.0</td>\n      <td>NaN</td>\n      <td>...</td>\n      <td>NaN</td>\n      <td>NaN</td>\n      <td>NaN</td>\n      <td>NaN</td>\n      <td>NaN</td>\n      <td>NaN</td>\n      <td>NaN</td>\n      <td>NaN</td>\n      <td>NaN</td>\n      <td>NaN</td>\n    </tr>\n    <tr>\n      <th>60345</th>\n      <td>OWID_SAM</td>\n      <td>NaN</td>\n      <td>South America</td>\n      <td>2020-02-24</td>\n      <td>2.0</td>\n      <td>0.0</td>\n      <td>NaN</td>\n      <td>NaN</td>\n      <td>0.0</td>\n      <td>NaN</td>\n      <td>...</td>\n      <td>NaN</td>\n      <td>NaN</td>\n      <td>NaN</td>\n      <td>NaN</td>\n      <td>NaN</td>\n      <td>NaN</td>\n      <td>NaN</td>\n      <td>NaN</td>\n      <td>NaN</td>\n      <td>NaN</td>\n    </tr>\n    <tr>\n      <th>60346</th>\n      <td>OWID_SAM</td>\n      <td>NaN</td>\n      <td>South America</td>\n      <td>2020-02-25</td>\n      <td>2.0</td>\n      <td>0.0</td>\n      <td>NaN</td>\n      <td>NaN</td>\n      <td>0.0</td>\n      <td>NaN</td>\n      <td>...</td>\n      <td>NaN</td>\n      <td>NaN</td>\n      <td>NaN</td>\n      <td>NaN</td>\n      <td>NaN</td>\n      <td>NaN</td>\n      <td>NaN</td>\n      <td>NaN</td>\n      <td>NaN</td>\n      <td>NaN</td>\n    </tr>\n    <tr>\n      <th>60347</th>\n      <td>OWID_SAM</td>\n      <td>NaN</td>\n      <td>South America</td>\n      <td>2020-02-26</td>\n      <td>3.0</td>\n      <td>1.0</td>\n      <td>NaN</td>\n      <td>NaN</td>\n      <td>0.0</td>\n      <td>NaN</td>\n      <td>...</td>\n      <td>NaN</td>\n      <td>NaN</td>\n      <td>NaN</td>\n      <td>NaN</td>\n      <td>NaN</td>\n      <td>NaN</td>\n      <td>NaN</td>\n      <td>NaN</td>\n      <td>NaN</td>\n      <td>NaN</td>\n    </tr>\n  </tbody>\n</table>\n<p>5 rows × 59 columns</p>\n</div>"
     },
     "metadata": {},
     "execution_count": 7
    }
   ],
   "source": [
    "df.loc[df['location'] == 'South America'].head(5)"
   ]
  },
  {
   "cell_type": "code",
   "execution_count": 8,
   "metadata": {},
   "outputs": [
    {
     "output_type": "execute_result",
     "data": {
      "text/plain": [
       "       iso_code continent       location        date  total_cases  new_cases  \\\n",
       "60715  OWID_SAM       NaN  South America  2021-02-28   17968065.0    48219.0   \n",
       "60716  OWID_SAM       NaN  South America  2021-03-01   18026103.0    58038.0   \n",
       "60717  OWID_SAM       NaN  South America  2021-03-02   18111492.0    85389.0   \n",
       "60718  OWID_SAM       NaN  South America  2021-03-03   18203448.0    91956.0   \n",
       "60719  OWID_SAM       NaN  South America  2021-03-04   18304962.0   101514.0   \n",
       "\n",
       "       new_cases_smoothed  total_deaths  new_deaths  new_deaths_smoothed  ...  \\\n",
       "60715           78810.286      466504.0      1019.0             1791.429  ...   \n",
       "60716           81036.857      467842.0      1338.0             1826.429  ...   \n",
       "60717           81212.143      470214.0      2372.0             1884.857  ...   \n",
       "60718           80799.000      472652.0      2438.0             1934.429  ...   \n",
       "60719           81622.286      475075.0      2423.0             1959.714  ...   \n",
       "\n",
       "       gdp_per_capita  extreme_poverty  cardiovasc_death_rate  \\\n",
       "60715             NaN              NaN                    NaN   \n",
       "60716             NaN              NaN                    NaN   \n",
       "60717             NaN              NaN                    NaN   \n",
       "60718             NaN              NaN                    NaN   \n",
       "60719             NaN              NaN                    NaN   \n",
       "\n",
       "       diabetes_prevalence  female_smokers  male_smokers  \\\n",
       "60715                  NaN             NaN           NaN   \n",
       "60716                  NaN             NaN           NaN   \n",
       "60717                  NaN             NaN           NaN   \n",
       "60718                  NaN             NaN           NaN   \n",
       "60719                  NaN             NaN           NaN   \n",
       "\n",
       "       handwashing_facilities  hospital_beds_per_thousand  life_expectancy  \\\n",
       "60715                     NaN                         NaN              NaN   \n",
       "60716                     NaN                         NaN              NaN   \n",
       "60717                     NaN                         NaN              NaN   \n",
       "60718                     NaN                         NaN              NaN   \n",
       "60719                     NaN                         NaN              NaN   \n",
       "\n",
       "       human_development_index  \n",
       "60715                      NaN  \n",
       "60716                      NaN  \n",
       "60717                      NaN  \n",
       "60718                      NaN  \n",
       "60719                      NaN  \n",
       "\n",
       "[5 rows x 59 columns]"
      ],
      "text/html": "<div>\n<style scoped>\n    .dataframe tbody tr th:only-of-type {\n        vertical-align: middle;\n    }\n\n    .dataframe tbody tr th {\n        vertical-align: top;\n    }\n\n    .dataframe thead th {\n        text-align: right;\n    }\n</style>\n<table border=\"1\" class=\"dataframe\">\n  <thead>\n    <tr style=\"text-align: right;\">\n      <th></th>\n      <th>iso_code</th>\n      <th>continent</th>\n      <th>location</th>\n      <th>date</th>\n      <th>total_cases</th>\n      <th>new_cases</th>\n      <th>new_cases_smoothed</th>\n      <th>total_deaths</th>\n      <th>new_deaths</th>\n      <th>new_deaths_smoothed</th>\n      <th>...</th>\n      <th>gdp_per_capita</th>\n      <th>extreme_poverty</th>\n      <th>cardiovasc_death_rate</th>\n      <th>diabetes_prevalence</th>\n      <th>female_smokers</th>\n      <th>male_smokers</th>\n      <th>handwashing_facilities</th>\n      <th>hospital_beds_per_thousand</th>\n      <th>life_expectancy</th>\n      <th>human_development_index</th>\n    </tr>\n  </thead>\n  <tbody>\n    <tr>\n      <th>60715</th>\n      <td>OWID_SAM</td>\n      <td>NaN</td>\n      <td>South America</td>\n      <td>2021-02-28</td>\n      <td>17968065.0</td>\n      <td>48219.0</td>\n      <td>78810.286</td>\n      <td>466504.0</td>\n      <td>1019.0</td>\n      <td>1791.429</td>\n      <td>...</td>\n      <td>NaN</td>\n      <td>NaN</td>\n      <td>NaN</td>\n      <td>NaN</td>\n      <td>NaN</td>\n      <td>NaN</td>\n      <td>NaN</td>\n      <td>NaN</td>\n      <td>NaN</td>\n      <td>NaN</td>\n    </tr>\n    <tr>\n      <th>60716</th>\n      <td>OWID_SAM</td>\n      <td>NaN</td>\n      <td>South America</td>\n      <td>2021-03-01</td>\n      <td>18026103.0</td>\n      <td>58038.0</td>\n      <td>81036.857</td>\n      <td>467842.0</td>\n      <td>1338.0</td>\n      <td>1826.429</td>\n      <td>...</td>\n      <td>NaN</td>\n      <td>NaN</td>\n      <td>NaN</td>\n      <td>NaN</td>\n      <td>NaN</td>\n      <td>NaN</td>\n      <td>NaN</td>\n      <td>NaN</td>\n      <td>NaN</td>\n      <td>NaN</td>\n    </tr>\n    <tr>\n      <th>60717</th>\n      <td>OWID_SAM</td>\n      <td>NaN</td>\n      <td>South America</td>\n      <td>2021-03-02</td>\n      <td>18111492.0</td>\n      <td>85389.0</td>\n      <td>81212.143</td>\n      <td>470214.0</td>\n      <td>2372.0</td>\n      <td>1884.857</td>\n      <td>...</td>\n      <td>NaN</td>\n      <td>NaN</td>\n      <td>NaN</td>\n      <td>NaN</td>\n      <td>NaN</td>\n      <td>NaN</td>\n      <td>NaN</td>\n      <td>NaN</td>\n      <td>NaN</td>\n      <td>NaN</td>\n    </tr>\n    <tr>\n      <th>60718</th>\n      <td>OWID_SAM</td>\n      <td>NaN</td>\n      <td>South America</td>\n      <td>2021-03-03</td>\n      <td>18203448.0</td>\n      <td>91956.0</td>\n      <td>80799.000</td>\n      <td>472652.0</td>\n      <td>2438.0</td>\n      <td>1934.429</td>\n      <td>...</td>\n      <td>NaN</td>\n      <td>NaN</td>\n      <td>NaN</td>\n      <td>NaN</td>\n      <td>NaN</td>\n      <td>NaN</td>\n      <td>NaN</td>\n      <td>NaN</td>\n      <td>NaN</td>\n      <td>NaN</td>\n    </tr>\n    <tr>\n      <th>60719</th>\n      <td>OWID_SAM</td>\n      <td>NaN</td>\n      <td>South America</td>\n      <td>2021-03-04</td>\n      <td>18304962.0</td>\n      <td>101514.0</td>\n      <td>81622.286</td>\n      <td>475075.0</td>\n      <td>2423.0</td>\n      <td>1959.714</td>\n      <td>...</td>\n      <td>NaN</td>\n      <td>NaN</td>\n      <td>NaN</td>\n      <td>NaN</td>\n      <td>NaN</td>\n      <td>NaN</td>\n      <td>NaN</td>\n      <td>NaN</td>\n      <td>NaN</td>\n      <td>NaN</td>\n    </tr>\n  </tbody>\n</table>\n<p>5 rows × 59 columns</p>\n</div>"
     },
     "metadata": {},
     "execution_count": 8
    }
   ],
   "source": [
    "df.loc[df['location'] == 'South America'].tail(5)"
   ]
  },
  {
   "cell_type": "code",
   "execution_count": 11,
   "metadata": {},
   "outputs": [
    {
     "output_type": "execute_result",
     "data": {
      "text/plain": [
       "array([nan])"
      ]
     },
     "metadata": {},
     "execution_count": 11
    }
   ],
   "source": [
    "#notei que talvez os dados em algumas colunas tenham sido simplesmente abstraidos. vale a pena verificar.\n",
    "sa_df = df.loc[df['location'] == 'South America']\n",
    "sa_df['diabetes_prevalence'].unique()\n"
   ]
  },
  {
   "source": [
    "Como temos a presença de continentes da série temporal, creio que seja válida a separação em camadas, para facilitar a busca, e também para não alterar a semântica da série temporal - o que levaria ao enviesamento."
   ],
   "cell_type": "markdown",
   "metadata": {}
  },
  {
   "cell_type": "code",
   "execution_count": 12,
   "metadata": {},
   "outputs": [],
   "source": [
    "#NOTA: esse processo abaixo não é computacionalmente viável, justamente por criar muitas cópias e o acesso seria totalmente descontrolado. Para fins de ANÁLISE se torna mais pratico(para mim), e não será reutilizaddo em produção. \n",
    "#PS: nao tem America Central meu deus geografia basica \n",
    "continents = {\n",
    "    'NA': df.loc[df['location'] == 'South America'],\n",
    "    'LATAM': df.loc[df['location'] == 'North America'],\n",
    "    'EUR': df.loc[df['location'] == 'Europe'],\n",
    "    'AFR': df.loc[df['location'] == 'Africa'],\n",
    "    'OCE': df.loc[df['location'] == 'Oceania'],\n",
    "    'Asia': df.loc[df['location'] == 'Asia']\n",
    "    }"
   ]
  },
  {
   "cell_type": "code",
   "execution_count": 19,
   "metadata": {
    "tags": []
   },
   "outputs": [
    {
     "output_type": "stream",
     "name": "stdout",
     "text": [
      "NA tem 377 amostras.\nLATAM tem 408 amostras.\nEUR tem 407 amostras.\nAFR tem 386 amostras.\nOCE tem 405 amostras.\nAsia tem 408 amostras.\n"
     ]
    }
   ],
   "source": [
    "#testando \n",
    "\n",
    "for continent, dframe in continents.items():\n",
    "    print(f'{continent} tem {dframe.shape[0]} amostras.')"
   ]
  },
  {
   "source": [
    "Pela quantidade de amostras, aparentemente a quantidade de dados temporais é ***desbalanceada***."
   ],
   "cell_type": "markdown",
   "metadata": {}
  },
  {
   "cell_type": "code",
   "execution_count": null,
   "metadata": {},
   "outputs": [],
   "source": []
  }
 ]
}