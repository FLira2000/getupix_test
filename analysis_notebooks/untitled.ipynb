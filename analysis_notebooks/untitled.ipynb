{
 "metadata": {
  "language_info": {
   "codemirror_mode": {
    "name": "ipython",
    "version": 3
   },
   "file_extension": ".py",
   "mimetype": "text/x-python",
   "name": "python",
   "nbconvert_exporter": "python",
   "pygments_lexer": "ipython3",
   "version": "3.7.7-final"
  },
  "orig_nbformat": 2,
  "kernelspec": {
   "name": "python3",
   "display_name": "Python 3.7.7 64-bit ('base': conda)",
   "metadata": {
    "interpreter": {
     "hash": "ff9b6033e4e5bfa856b14a701d4fbd62eaf3968921bdcaa1c958afdae5de6108"
    }
   }
  }
 },
 "nbformat": 4,
 "nbformat_minor": 2,
 "cells": [
  {
   "cell_type": "code",
   "execution_count": 1,
   "metadata": {},
   "outputs": [],
   "source": [
    "import pandas as pd"
   ]
  },
  {
   "cell_type": "code",
   "execution_count": 2,
   "metadata": {},
   "outputs": [],
   "source": [
    "file = open('../owid_covid_data.csv')"
   ]
  },
  {
   "cell_type": "code",
   "execution_count": 3,
   "metadata": {},
   "outputs": [
    {
     "output_type": "execute_result",
     "data": {
      "text/plain": [
       "  iso_code continent     location        date  total_cases  new_cases  \\\n",
       "0      AFG      Asia  Afghanistan  2020-02-24          1.0        1.0   \n",
       "1      AFG      Asia  Afghanistan  2020-02-25          1.0        0.0   \n",
       "2      AFG      Asia  Afghanistan  2020-02-26          1.0        0.0   \n",
       "3      AFG      Asia  Afghanistan  2020-02-27          1.0        0.0   \n",
       "4      AFG      Asia  Afghanistan  2020-02-28          1.0        0.0   \n",
       "5      AFG      Asia  Afghanistan  2020-02-29          1.0        0.0   \n",
       "6      AFG      Asia  Afghanistan  2020-03-01          1.0        0.0   \n",
       "7      AFG      Asia  Afghanistan  2020-03-02          1.0        0.0   \n",
       "8      AFG      Asia  Afghanistan  2020-03-03          2.0        1.0   \n",
       "9      AFG      Asia  Afghanistan  2020-03-04          4.0        2.0   \n",
       "\n",
       "   new_cases_smoothed  total_deaths  new_deaths  new_deaths_smoothed  ...  \\\n",
       "0                 NaN           NaN         NaN                  NaN  ...   \n",
       "1                 NaN           NaN         NaN                  NaN  ...   \n",
       "2                 NaN           NaN         NaN                  NaN  ...   \n",
       "3                 NaN           NaN         NaN                  NaN  ...   \n",
       "4                 NaN           NaN         NaN                  NaN  ...   \n",
       "5               0.143           NaN         NaN                  0.0  ...   \n",
       "6               0.143           NaN         NaN                  0.0  ...   \n",
       "7               0.000           NaN         NaN                  0.0  ...   \n",
       "8               0.143           NaN         NaN                  0.0  ...   \n",
       "9               0.429           NaN         NaN                  0.0  ...   \n",
       "\n",
       "   gdp_per_capita  extreme_poverty  cardiovasc_death_rate  \\\n",
       "0        1803.987              NaN                597.029   \n",
       "1        1803.987              NaN                597.029   \n",
       "2        1803.987              NaN                597.029   \n",
       "3        1803.987              NaN                597.029   \n",
       "4        1803.987              NaN                597.029   \n",
       "5        1803.987              NaN                597.029   \n",
       "6        1803.987              NaN                597.029   \n",
       "7        1803.987              NaN                597.029   \n",
       "8        1803.987              NaN                597.029   \n",
       "9        1803.987              NaN                597.029   \n",
       "\n",
       "   diabetes_prevalence  female_smokers  male_smokers  handwashing_facilities  \\\n",
       "0                 9.59             NaN           NaN                  37.746   \n",
       "1                 9.59             NaN           NaN                  37.746   \n",
       "2                 9.59             NaN           NaN                  37.746   \n",
       "3                 9.59             NaN           NaN                  37.746   \n",
       "4                 9.59             NaN           NaN                  37.746   \n",
       "5                 9.59             NaN           NaN                  37.746   \n",
       "6                 9.59             NaN           NaN                  37.746   \n",
       "7                 9.59             NaN           NaN                  37.746   \n",
       "8                 9.59             NaN           NaN                  37.746   \n",
       "9                 9.59             NaN           NaN                  37.746   \n",
       "\n",
       "   hospital_beds_per_thousand  life_expectancy  human_development_index  \n",
       "0                         0.5            64.83                    0.511  \n",
       "1                         0.5            64.83                    0.511  \n",
       "2                         0.5            64.83                    0.511  \n",
       "3                         0.5            64.83                    0.511  \n",
       "4                         0.5            64.83                    0.511  \n",
       "5                         0.5            64.83                    0.511  \n",
       "6                         0.5            64.83                    0.511  \n",
       "7                         0.5            64.83                    0.511  \n",
       "8                         0.5            64.83                    0.511  \n",
       "9                         0.5            64.83                    0.511  \n",
       "\n",
       "[10 rows x 59 columns]"
      ],
      "text/html": "<div>\n<style scoped>\n    .dataframe tbody tr th:only-of-type {\n        vertical-align: middle;\n    }\n\n    .dataframe tbody tr th {\n        vertical-align: top;\n    }\n\n    .dataframe thead th {\n        text-align: right;\n    }\n</style>\n<table border=\"1\" class=\"dataframe\">\n  <thead>\n    <tr style=\"text-align: right;\">\n      <th></th>\n      <th>iso_code</th>\n      <th>continent</th>\n      <th>location</th>\n      <th>date</th>\n      <th>total_cases</th>\n      <th>new_cases</th>\n      <th>new_cases_smoothed</th>\n      <th>total_deaths</th>\n      <th>new_deaths</th>\n      <th>new_deaths_smoothed</th>\n      <th>...</th>\n      <th>gdp_per_capita</th>\n      <th>extreme_poverty</th>\n      <th>cardiovasc_death_rate</th>\n      <th>diabetes_prevalence</th>\n      <th>female_smokers</th>\n      <th>male_smokers</th>\n      <th>handwashing_facilities</th>\n      <th>hospital_beds_per_thousand</th>\n      <th>life_expectancy</th>\n      <th>human_development_index</th>\n    </tr>\n  </thead>\n  <tbody>\n    <tr>\n      <th>0</th>\n      <td>AFG</td>\n      <td>Asia</td>\n      <td>Afghanistan</td>\n      <td>2020-02-24</td>\n      <td>1.0</td>\n      <td>1.0</td>\n      <td>NaN</td>\n      <td>NaN</td>\n      <td>NaN</td>\n      <td>NaN</td>\n      <td>...</td>\n      <td>1803.987</td>\n      <td>NaN</td>\n      <td>597.029</td>\n      <td>9.59</td>\n      <td>NaN</td>\n      <td>NaN</td>\n      <td>37.746</td>\n      <td>0.5</td>\n      <td>64.83</td>\n      <td>0.511</td>\n    </tr>\n    <tr>\n      <th>1</th>\n      <td>AFG</td>\n      <td>Asia</td>\n      <td>Afghanistan</td>\n      <td>2020-02-25</td>\n      <td>1.0</td>\n      <td>0.0</td>\n      <td>NaN</td>\n      <td>NaN</td>\n      <td>NaN</td>\n      <td>NaN</td>\n      <td>...</td>\n      <td>1803.987</td>\n      <td>NaN</td>\n      <td>597.029</td>\n      <td>9.59</td>\n      <td>NaN</td>\n      <td>NaN</td>\n      <td>37.746</td>\n      <td>0.5</td>\n      <td>64.83</td>\n      <td>0.511</td>\n    </tr>\n    <tr>\n      <th>2</th>\n      <td>AFG</td>\n      <td>Asia</td>\n      <td>Afghanistan</td>\n      <td>2020-02-26</td>\n      <td>1.0</td>\n      <td>0.0</td>\n      <td>NaN</td>\n      <td>NaN</td>\n      <td>NaN</td>\n      <td>NaN</td>\n      <td>...</td>\n      <td>1803.987</td>\n      <td>NaN</td>\n      <td>597.029</td>\n      <td>9.59</td>\n      <td>NaN</td>\n      <td>NaN</td>\n      <td>37.746</td>\n      <td>0.5</td>\n      <td>64.83</td>\n      <td>0.511</td>\n    </tr>\n    <tr>\n      <th>3</th>\n      <td>AFG</td>\n      <td>Asia</td>\n      <td>Afghanistan</td>\n      <td>2020-02-27</td>\n      <td>1.0</td>\n      <td>0.0</td>\n      <td>NaN</td>\n      <td>NaN</td>\n      <td>NaN</td>\n      <td>NaN</td>\n      <td>...</td>\n      <td>1803.987</td>\n      <td>NaN</td>\n      <td>597.029</td>\n      <td>9.59</td>\n      <td>NaN</td>\n      <td>NaN</td>\n      <td>37.746</td>\n      <td>0.5</td>\n      <td>64.83</td>\n      <td>0.511</td>\n    </tr>\n    <tr>\n      <th>4</th>\n      <td>AFG</td>\n      <td>Asia</td>\n      <td>Afghanistan</td>\n      <td>2020-02-28</td>\n      <td>1.0</td>\n      <td>0.0</td>\n      <td>NaN</td>\n      <td>NaN</td>\n      <td>NaN</td>\n      <td>NaN</td>\n      <td>...</td>\n      <td>1803.987</td>\n      <td>NaN</td>\n      <td>597.029</td>\n      <td>9.59</td>\n      <td>NaN</td>\n      <td>NaN</td>\n      <td>37.746</td>\n      <td>0.5</td>\n      <td>64.83</td>\n      <td>0.511</td>\n    </tr>\n    <tr>\n      <th>5</th>\n      <td>AFG</td>\n      <td>Asia</td>\n      <td>Afghanistan</td>\n      <td>2020-02-29</td>\n      <td>1.0</td>\n      <td>0.0</td>\n      <td>0.143</td>\n      <td>NaN</td>\n      <td>NaN</td>\n      <td>0.0</td>\n      <td>...</td>\n      <td>1803.987</td>\n      <td>NaN</td>\n      <td>597.029</td>\n      <td>9.59</td>\n      <td>NaN</td>\n      <td>NaN</td>\n      <td>37.746</td>\n      <td>0.5</td>\n      <td>64.83</td>\n      <td>0.511</td>\n    </tr>\n    <tr>\n      <th>6</th>\n      <td>AFG</td>\n      <td>Asia</td>\n      <td>Afghanistan</td>\n      <td>2020-03-01</td>\n      <td>1.0</td>\n      <td>0.0</td>\n      <td>0.143</td>\n      <td>NaN</td>\n      <td>NaN</td>\n      <td>0.0</td>\n      <td>...</td>\n      <td>1803.987</td>\n      <td>NaN</td>\n      <td>597.029</td>\n      <td>9.59</td>\n      <td>NaN</td>\n      <td>NaN</td>\n      <td>37.746</td>\n      <td>0.5</td>\n      <td>64.83</td>\n      <td>0.511</td>\n    </tr>\n    <tr>\n      <th>7</th>\n      <td>AFG</td>\n      <td>Asia</td>\n      <td>Afghanistan</td>\n      <td>2020-03-02</td>\n      <td>1.0</td>\n      <td>0.0</td>\n      <td>0.000</td>\n      <td>NaN</td>\n      <td>NaN</td>\n      <td>0.0</td>\n      <td>...</td>\n      <td>1803.987</td>\n      <td>NaN</td>\n      <td>597.029</td>\n      <td>9.59</td>\n      <td>NaN</td>\n      <td>NaN</td>\n      <td>37.746</td>\n      <td>0.5</td>\n      <td>64.83</td>\n      <td>0.511</td>\n    </tr>\n    <tr>\n      <th>8</th>\n      <td>AFG</td>\n      <td>Asia</td>\n      <td>Afghanistan</td>\n      <td>2020-03-03</td>\n      <td>2.0</td>\n      <td>1.0</td>\n      <td>0.143</td>\n      <td>NaN</td>\n      <td>NaN</td>\n      <td>0.0</td>\n      <td>...</td>\n      <td>1803.987</td>\n      <td>NaN</td>\n      <td>597.029</td>\n      <td>9.59</td>\n      <td>NaN</td>\n      <td>NaN</td>\n      <td>37.746</td>\n      <td>0.5</td>\n      <td>64.83</td>\n      <td>0.511</td>\n    </tr>\n    <tr>\n      <th>9</th>\n      <td>AFG</td>\n      <td>Asia</td>\n      <td>Afghanistan</td>\n      <td>2020-03-04</td>\n      <td>4.0</td>\n      <td>2.0</td>\n      <td>0.429</td>\n      <td>NaN</td>\n      <td>NaN</td>\n      <td>0.0</td>\n      <td>...</td>\n      <td>1803.987</td>\n      <td>NaN</td>\n      <td>597.029</td>\n      <td>9.59</td>\n      <td>NaN</td>\n      <td>NaN</td>\n      <td>37.746</td>\n      <td>0.5</td>\n      <td>64.83</td>\n      <td>0.511</td>\n    </tr>\n  </tbody>\n</table>\n<p>10 rows × 59 columns</p>\n</div>"
     },
     "metadata": {},
     "execution_count": 3
    }
   ],
   "source": [
    "#uma serie temporal\n",
    "df = pd.read_csv(file)\n",
    "df.head(10)"
   ]
  },
  {
   "cell_type": "code",
   "execution_count": 4,
   "metadata": {},
   "outputs": [
    {
     "output_type": "stream",
     "name": "stdout",
     "text": [
      "<class 'pandas.core.frame.DataFrame'>\nRangeIndex: 72775 entries, 0 to 72774\nData columns (total 59 columns):\n #   Column                                 Non-Null Count  Dtype  \n---  ------                                 --------------  -----  \n 0   iso_code                               72775 non-null  object \n 1   continent                              69168 non-null  object \n 2   location                               72775 non-null  object \n 3   date                                   72775 non-null  object \n 4   total_cases                            71729 non-null  float64\n 5   new_cases                              71727 non-null  float64\n 6   new_cases_smoothed                     70726 non-null  float64\n 7   total_deaths                           62606 non-null  float64\n 8   new_deaths                             62764 non-null  float64\n 9   new_deaths_smoothed                    70726 non-null  float64\n 10  total_cases_per_million                71337 non-null  float64\n 11  new_cases_per_million                  71335 non-null  float64\n 12  new_cases_smoothed_per_million         70339 non-null  float64\n 13  total_deaths_per_million               62227 non-null  float64\n 14  new_deaths_per_million                 62385 non-null  float64\n 15  new_deaths_smoothed_per_million        70339 non-null  float64\n 16  reproduction_rate                      58548 non-null  float64\n 17  icu_patients                           7639 non-null   float64\n 18  icu_patients_per_million               7639 non-null   float64\n 19  hosp_patients                          9185 non-null   float64\n 20  hosp_patients_per_million              9185 non-null   float64\n 21  weekly_icu_admissions                  645 non-null    float64\n 22  weekly_icu_admissions_per_million      645 non-null    float64\n 23  weekly_hosp_admissions                 1229 non-null   float64\n 24  weekly_hosp_admissions_per_million     1229 non-null   float64\n 25  new_tests                              32924 non-null  float64\n 26  total_tests                            32749 non-null  float64\n 27  total_tests_per_thousand               32749 non-null  float64\n 28  new_tests_per_thousand                 32924 non-null  float64\n 29  new_tests_smoothed                     37564 non-null  float64\n 30  new_tests_smoothed_per_thousand        37564 non-null  float64\n 31  positive_rate                          36371 non-null  float64\n 32  tests_per_case                         35810 non-null  float64\n 33  tests_units                            38870 non-null  object \n 34  total_vaccinations                     3208 non-null   float64\n 35  people_vaccinated                      2782 non-null   float64\n 36  people_fully_vaccinated                1840 non-null   float64\n 37  new_vaccinations                       2702 non-null   float64\n 38  new_vaccinations_smoothed              4810 non-null   float64\n 39  total_vaccinations_per_hundred         3208 non-null   float64\n 40  people_vaccinated_per_hundred          2782 non-null   float64\n 41  people_fully_vaccinated_per_hundred    1840 non-null   float64\n 42  new_vaccinations_smoothed_per_million  4810 non-null   float64\n 43  stringency_index                       62268 non-null  float64\n 44  population                             72374 non-null  float64\n 45  population_density                     67986 non-null  float64\n 46  median_age                             66114 non-null  float64\n 47  aged_65_older                          65352 non-null  float64\n 48  aged_70_older                          65741 non-null  float64\n 49  gdp_per_capita                         66308 non-null  float64\n 50  extreme_poverty                        45275 non-null  float64\n 51  cardiovasc_death_rate                  66949 non-null  float64\n 52  diabetes_prevalence                    67791 non-null  float64\n 53  female_smokers                         52644 non-null  float64\n 54  male_smokers                           51921 non-null  float64\n 55  handwashing_facilities                 33592 non-null  float64\n 56  hospital_beds_per_thousand             61295 non-null  float64\n 57  life_expectancy                        69146 non-null  float64\n 58  human_development_index                66890 non-null  float64\ndtypes: float64(54), object(5)\nmemory usage: 32.8+ MB\n"
     ]
    }
   ],
   "source": [
    "df.info()\n",
    "#vendo se as colunas de data já são datas"
   ]
  },
  {
   "cell_type": "code",
   "execution_count": 5,
   "metadata": {},
   "outputs": [],
   "source": [
    "#como esperado não\n",
    "df['date'] = pd.to_datetime(df.date)"
   ]
  },
  {
   "cell_type": "code",
   "execution_count": 6,
   "metadata": {},
   "outputs": [
    {
     "output_type": "execute_result",
     "data": {
      "text/plain": [
       "array(['Afghanistan', 'Africa', 'Albania', 'Algeria', 'Andorra', 'Angola',\n",
       "       'Anguilla', 'Antigua and Barbuda', 'Argentina', 'Armenia', 'Asia',\n",
       "       'Australia', 'Austria', 'Azerbaijan', 'Bahamas', 'Bahrain',\n",
       "       'Bangladesh', 'Barbados', 'Belarus', 'Belgium', 'Belize', 'Benin',\n",
       "       'Bermuda', 'Bhutan', 'Bolivia', 'Bosnia and Herzegovina',\n",
       "       'Botswana', 'Brazil', 'Brunei', 'Bulgaria', 'Burkina Faso',\n",
       "       'Burundi', 'Cambodia', 'Cameroon', 'Canada', 'Cape Verde',\n",
       "       'Cayman Islands', 'Central African Republic', 'Chad', 'Chile',\n",
       "       'China', 'Colombia', 'Comoros', 'Congo', 'Costa Rica',\n",
       "       \"Cote d'Ivoire\", 'Croatia', 'Cuba', 'Cyprus', 'Czechia',\n",
       "       'Democratic Republic of Congo', 'Denmark', 'Djibouti', 'Dominica',\n",
       "       'Dominican Republic', 'Ecuador', 'Egypt', 'El Salvador',\n",
       "       'Equatorial Guinea', 'Eritrea', 'Estonia', 'Eswatini', 'Ethiopia',\n",
       "       'Europe', 'European Union', 'Faeroe Islands', 'Falkland Islands',\n",
       "       'Fiji', 'Finland', 'France', 'Gabon', 'Gambia', 'Georgia',\n",
       "       'Germany', 'Ghana', 'Gibraltar', 'Greece', 'Greenland', 'Grenada',\n",
       "       'Guatemala', 'Guernsey', 'Guinea', 'Guinea-Bissau', 'Guyana',\n",
       "       'Haiti', 'Honduras', 'Hong Kong', 'Hungary', 'Iceland', 'India',\n",
       "       'Indonesia', 'International', 'Iran', 'Iraq', 'Ireland',\n",
       "       'Isle of Man', 'Israel', 'Italy', 'Jamaica', 'Japan', 'Jersey',\n",
       "       'Jordan', 'Kazakhstan', 'Kenya', 'Kosovo', 'Kuwait', 'Kyrgyzstan',\n",
       "       'Laos', 'Latvia', 'Lebanon', 'Lesotho', 'Liberia', 'Libya',\n",
       "       'Liechtenstein', 'Lithuania', 'Luxembourg', 'Macao', 'Madagascar',\n",
       "       'Malawi', 'Malaysia', 'Maldives', 'Mali', 'Malta',\n",
       "       'Marshall Islands', 'Mauritania', 'Mauritius', 'Mexico',\n",
       "       'Micronesia (country)', 'Moldova', 'Monaco', 'Mongolia',\n",
       "       'Montenegro', 'Montserrat', 'Morocco', 'Mozambique', 'Myanmar',\n",
       "       'Namibia', 'Nepal', 'Netherlands', 'New Zealand', 'Nicaragua',\n",
       "       'Niger', 'Nigeria', 'North America', 'North Macedonia',\n",
       "       'Northern Cyprus', 'Norway', 'Oceania', 'Oman', 'Pakistan',\n",
       "       'Palestine', 'Panama', 'Papua New Guinea', 'Paraguay', 'Peru',\n",
       "       'Philippines', 'Poland', 'Portugal', 'Qatar', 'Romania', 'Russia',\n",
       "       'Rwanda', 'Saint Helena', 'Saint Kitts and Nevis', 'Saint Lucia',\n",
       "       'Saint Vincent and the Grenadines', 'Samoa', 'San Marino',\n",
       "       'Sao Tome and Principe', 'Saudi Arabia', 'Senegal', 'Serbia',\n",
       "       'Seychelles', 'Sierra Leone', 'Singapore', 'Slovakia', 'Slovenia',\n",
       "       'Solomon Islands', 'Somalia', 'South Africa', 'South America',\n",
       "       'South Korea', 'South Sudan', 'Spain', 'Sri Lanka', 'Sudan',\n",
       "       'Suriname', 'Sweden', 'Switzerland', 'Syria', 'Taiwan',\n",
       "       'Tajikistan', 'Tanzania', 'Thailand', 'Timor', 'Togo',\n",
       "       'Trinidad and Tobago', 'Tunisia', 'Turkey',\n",
       "       'Turks and Caicos Islands', 'Uganda', 'Ukraine',\n",
       "       'United Arab Emirates', 'United Kingdom', 'United States',\n",
       "       'Uruguay', 'Uzbekistan', 'Vanuatu', 'Vatican', 'Venezuela',\n",
       "       'Vietnam', 'World', 'Yemen', 'Zambia', 'Zimbabwe'], dtype=object)"
      ]
     },
     "metadata": {},
     "execution_count": 6
    }
   ],
   "source": [
    "#ok pensei que fossem menos\n",
    "df.location.unique()"
   ]
  },
  {
   "cell_type": "code",
   "execution_count": 7,
   "metadata": {},
   "outputs": [
    {
     "output_type": "execute_result",
     "data": {
      "text/plain": [
       "215"
      ]
     },
     "metadata": {},
     "execution_count": 7
    }
   ],
   "source": [
    "#mais do que a quantidade de países reconhecidos no mundo? analise.\n",
    "len(df.location.unique())"
   ]
  },
  {
   "source": [
    "Aparentemente temos além de países, regiões consideradas como 'independentes' o suficiente para manterem status internacional."
   ],
   "cell_type": "markdown",
   "metadata": {}
  },
  {
   "cell_type": "code",
   "execution_count": 8,
   "metadata": {},
   "outputs": [
    {
     "output_type": "execute_result",
     "data": {
      "text/plain": [
       "       iso_code continent       location       date  total_cases  new_cases  \\\n",
       "60343  OWID_SAM       NaN  South America 2020-02-22          NaN        0.0   \n",
       "60344  OWID_SAM       NaN  South America 2020-02-23          2.0        2.0   \n",
       "60345  OWID_SAM       NaN  South America 2020-02-24          2.0        0.0   \n",
       "60346  OWID_SAM       NaN  South America 2020-02-25          2.0        0.0   \n",
       "60347  OWID_SAM       NaN  South America 2020-02-26          3.0        1.0   \n",
       "\n",
       "       new_cases_smoothed  total_deaths  new_deaths  new_deaths_smoothed  ...  \\\n",
       "60343                 NaN           NaN         0.0                  NaN  ...   \n",
       "60344                 NaN           NaN         0.0                  NaN  ...   \n",
       "60345                 NaN           NaN         0.0                  NaN  ...   \n",
       "60346                 NaN           NaN         0.0                  NaN  ...   \n",
       "60347                 NaN           NaN         0.0                  NaN  ...   \n",
       "\n",
       "       gdp_per_capita  extreme_poverty  cardiovasc_death_rate  \\\n",
       "60343             NaN              NaN                    NaN   \n",
       "60344             NaN              NaN                    NaN   \n",
       "60345             NaN              NaN                    NaN   \n",
       "60346             NaN              NaN                    NaN   \n",
       "60347             NaN              NaN                    NaN   \n",
       "\n",
       "       diabetes_prevalence  female_smokers  male_smokers  \\\n",
       "60343                  NaN             NaN           NaN   \n",
       "60344                  NaN             NaN           NaN   \n",
       "60345                  NaN             NaN           NaN   \n",
       "60346                  NaN             NaN           NaN   \n",
       "60347                  NaN             NaN           NaN   \n",
       "\n",
       "       handwashing_facilities  hospital_beds_per_thousand  life_expectancy  \\\n",
       "60343                     NaN                         NaN              NaN   \n",
       "60344                     NaN                         NaN              NaN   \n",
       "60345                     NaN                         NaN              NaN   \n",
       "60346                     NaN                         NaN              NaN   \n",
       "60347                     NaN                         NaN              NaN   \n",
       "\n",
       "       human_development_index  \n",
       "60343                      NaN  \n",
       "60344                      NaN  \n",
       "60345                      NaN  \n",
       "60346                      NaN  \n",
       "60347                      NaN  \n",
       "\n",
       "[5 rows x 59 columns]"
      ],
      "text/html": "<div>\n<style scoped>\n    .dataframe tbody tr th:only-of-type {\n        vertical-align: middle;\n    }\n\n    .dataframe tbody tr th {\n        vertical-align: top;\n    }\n\n    .dataframe thead th {\n        text-align: right;\n    }\n</style>\n<table border=\"1\" class=\"dataframe\">\n  <thead>\n    <tr style=\"text-align: right;\">\n      <th></th>\n      <th>iso_code</th>\n      <th>continent</th>\n      <th>location</th>\n      <th>date</th>\n      <th>total_cases</th>\n      <th>new_cases</th>\n      <th>new_cases_smoothed</th>\n      <th>total_deaths</th>\n      <th>new_deaths</th>\n      <th>new_deaths_smoothed</th>\n      <th>...</th>\n      <th>gdp_per_capita</th>\n      <th>extreme_poverty</th>\n      <th>cardiovasc_death_rate</th>\n      <th>diabetes_prevalence</th>\n      <th>female_smokers</th>\n      <th>male_smokers</th>\n      <th>handwashing_facilities</th>\n      <th>hospital_beds_per_thousand</th>\n      <th>life_expectancy</th>\n      <th>human_development_index</th>\n    </tr>\n  </thead>\n  <tbody>\n    <tr>\n      <th>60343</th>\n      <td>OWID_SAM</td>\n      <td>NaN</td>\n      <td>South America</td>\n      <td>2020-02-22</td>\n      <td>NaN</td>\n      <td>0.0</td>\n      <td>NaN</td>\n      <td>NaN</td>\n      <td>0.0</td>\n      <td>NaN</td>\n      <td>...</td>\n      <td>NaN</td>\n      <td>NaN</td>\n      <td>NaN</td>\n      <td>NaN</td>\n      <td>NaN</td>\n      <td>NaN</td>\n      <td>NaN</td>\n      <td>NaN</td>\n      <td>NaN</td>\n      <td>NaN</td>\n    </tr>\n    <tr>\n      <th>60344</th>\n      <td>OWID_SAM</td>\n      <td>NaN</td>\n      <td>South America</td>\n      <td>2020-02-23</td>\n      <td>2.0</td>\n      <td>2.0</td>\n      <td>NaN</td>\n      <td>NaN</td>\n      <td>0.0</td>\n      <td>NaN</td>\n      <td>...</td>\n      <td>NaN</td>\n      <td>NaN</td>\n      <td>NaN</td>\n      <td>NaN</td>\n      <td>NaN</td>\n      <td>NaN</td>\n      <td>NaN</td>\n      <td>NaN</td>\n      <td>NaN</td>\n      <td>NaN</td>\n    </tr>\n    <tr>\n      <th>60345</th>\n      <td>OWID_SAM</td>\n      <td>NaN</td>\n      <td>South America</td>\n      <td>2020-02-24</td>\n      <td>2.0</td>\n      <td>0.0</td>\n      <td>NaN</td>\n      <td>NaN</td>\n      <td>0.0</td>\n      <td>NaN</td>\n      <td>...</td>\n      <td>NaN</td>\n      <td>NaN</td>\n      <td>NaN</td>\n      <td>NaN</td>\n      <td>NaN</td>\n      <td>NaN</td>\n      <td>NaN</td>\n      <td>NaN</td>\n      <td>NaN</td>\n      <td>NaN</td>\n    </tr>\n    <tr>\n      <th>60346</th>\n      <td>OWID_SAM</td>\n      <td>NaN</td>\n      <td>South America</td>\n      <td>2020-02-25</td>\n      <td>2.0</td>\n      <td>0.0</td>\n      <td>NaN</td>\n      <td>NaN</td>\n      <td>0.0</td>\n      <td>NaN</td>\n      <td>...</td>\n      <td>NaN</td>\n      <td>NaN</td>\n      <td>NaN</td>\n      <td>NaN</td>\n      <td>NaN</td>\n      <td>NaN</td>\n      <td>NaN</td>\n      <td>NaN</td>\n      <td>NaN</td>\n      <td>NaN</td>\n    </tr>\n    <tr>\n      <th>60347</th>\n      <td>OWID_SAM</td>\n      <td>NaN</td>\n      <td>South America</td>\n      <td>2020-02-26</td>\n      <td>3.0</td>\n      <td>1.0</td>\n      <td>NaN</td>\n      <td>NaN</td>\n      <td>0.0</td>\n      <td>NaN</td>\n      <td>...</td>\n      <td>NaN</td>\n      <td>NaN</td>\n      <td>NaN</td>\n      <td>NaN</td>\n      <td>NaN</td>\n      <td>NaN</td>\n      <td>NaN</td>\n      <td>NaN</td>\n      <td>NaN</td>\n      <td>NaN</td>\n    </tr>\n  </tbody>\n</table>\n<p>5 rows × 59 columns</p>\n</div>"
     },
     "metadata": {},
     "execution_count": 8
    }
   ],
   "source": [
    "df.loc[df['location'] == 'South America'].head(5)"
   ]
  },
  {
   "cell_type": "code",
   "execution_count": 9,
   "metadata": {},
   "outputs": [
    {
     "output_type": "execute_result",
     "data": {
      "text/plain": [
       "       iso_code continent       location       date  total_cases  new_cases  \\\n",
       "60715  OWID_SAM       NaN  South America 2021-02-28   17968065.0    48219.0   \n",
       "60716  OWID_SAM       NaN  South America 2021-03-01   18026103.0    58038.0   \n",
       "60717  OWID_SAM       NaN  South America 2021-03-02   18111492.0    85389.0   \n",
       "60718  OWID_SAM       NaN  South America 2021-03-03   18203448.0    91956.0   \n",
       "60719  OWID_SAM       NaN  South America 2021-03-04   18304962.0   101514.0   \n",
       "\n",
       "       new_cases_smoothed  total_deaths  new_deaths  new_deaths_smoothed  ...  \\\n",
       "60715           78810.286      466504.0      1019.0             1791.429  ...   \n",
       "60716           81036.857      467842.0      1338.0             1826.429  ...   \n",
       "60717           81212.143      470214.0      2372.0             1884.857  ...   \n",
       "60718           80799.000      472652.0      2438.0             1934.429  ...   \n",
       "60719           81622.286      475075.0      2423.0             1959.714  ...   \n",
       "\n",
       "       gdp_per_capita  extreme_poverty  cardiovasc_death_rate  \\\n",
       "60715             NaN              NaN                    NaN   \n",
       "60716             NaN              NaN                    NaN   \n",
       "60717             NaN              NaN                    NaN   \n",
       "60718             NaN              NaN                    NaN   \n",
       "60719             NaN              NaN                    NaN   \n",
       "\n",
       "       diabetes_prevalence  female_smokers  male_smokers  \\\n",
       "60715                  NaN             NaN           NaN   \n",
       "60716                  NaN             NaN           NaN   \n",
       "60717                  NaN             NaN           NaN   \n",
       "60718                  NaN             NaN           NaN   \n",
       "60719                  NaN             NaN           NaN   \n",
       "\n",
       "       handwashing_facilities  hospital_beds_per_thousand  life_expectancy  \\\n",
       "60715                     NaN                         NaN              NaN   \n",
       "60716                     NaN                         NaN              NaN   \n",
       "60717                     NaN                         NaN              NaN   \n",
       "60718                     NaN                         NaN              NaN   \n",
       "60719                     NaN                         NaN              NaN   \n",
       "\n",
       "       human_development_index  \n",
       "60715                      NaN  \n",
       "60716                      NaN  \n",
       "60717                      NaN  \n",
       "60718                      NaN  \n",
       "60719                      NaN  \n",
       "\n",
       "[5 rows x 59 columns]"
      ],
      "text/html": "<div>\n<style scoped>\n    .dataframe tbody tr th:only-of-type {\n        vertical-align: middle;\n    }\n\n    .dataframe tbody tr th {\n        vertical-align: top;\n    }\n\n    .dataframe thead th {\n        text-align: right;\n    }\n</style>\n<table border=\"1\" class=\"dataframe\">\n  <thead>\n    <tr style=\"text-align: right;\">\n      <th></th>\n      <th>iso_code</th>\n      <th>continent</th>\n      <th>location</th>\n      <th>date</th>\n      <th>total_cases</th>\n      <th>new_cases</th>\n      <th>new_cases_smoothed</th>\n      <th>total_deaths</th>\n      <th>new_deaths</th>\n      <th>new_deaths_smoothed</th>\n      <th>...</th>\n      <th>gdp_per_capita</th>\n      <th>extreme_poverty</th>\n      <th>cardiovasc_death_rate</th>\n      <th>diabetes_prevalence</th>\n      <th>female_smokers</th>\n      <th>male_smokers</th>\n      <th>handwashing_facilities</th>\n      <th>hospital_beds_per_thousand</th>\n      <th>life_expectancy</th>\n      <th>human_development_index</th>\n    </tr>\n  </thead>\n  <tbody>\n    <tr>\n      <th>60715</th>\n      <td>OWID_SAM</td>\n      <td>NaN</td>\n      <td>South America</td>\n      <td>2021-02-28</td>\n      <td>17968065.0</td>\n      <td>48219.0</td>\n      <td>78810.286</td>\n      <td>466504.0</td>\n      <td>1019.0</td>\n      <td>1791.429</td>\n      <td>...</td>\n      <td>NaN</td>\n      <td>NaN</td>\n      <td>NaN</td>\n      <td>NaN</td>\n      <td>NaN</td>\n      <td>NaN</td>\n      <td>NaN</td>\n      <td>NaN</td>\n      <td>NaN</td>\n      <td>NaN</td>\n    </tr>\n    <tr>\n      <th>60716</th>\n      <td>OWID_SAM</td>\n      <td>NaN</td>\n      <td>South America</td>\n      <td>2021-03-01</td>\n      <td>18026103.0</td>\n      <td>58038.0</td>\n      <td>81036.857</td>\n      <td>467842.0</td>\n      <td>1338.0</td>\n      <td>1826.429</td>\n      <td>...</td>\n      <td>NaN</td>\n      <td>NaN</td>\n      <td>NaN</td>\n      <td>NaN</td>\n      <td>NaN</td>\n      <td>NaN</td>\n      <td>NaN</td>\n      <td>NaN</td>\n      <td>NaN</td>\n      <td>NaN</td>\n    </tr>\n    <tr>\n      <th>60717</th>\n      <td>OWID_SAM</td>\n      <td>NaN</td>\n      <td>South America</td>\n      <td>2021-03-02</td>\n      <td>18111492.0</td>\n      <td>85389.0</td>\n      <td>81212.143</td>\n      <td>470214.0</td>\n      <td>2372.0</td>\n      <td>1884.857</td>\n      <td>...</td>\n      <td>NaN</td>\n      <td>NaN</td>\n      <td>NaN</td>\n      <td>NaN</td>\n      <td>NaN</td>\n      <td>NaN</td>\n      <td>NaN</td>\n      <td>NaN</td>\n      <td>NaN</td>\n      <td>NaN</td>\n    </tr>\n    <tr>\n      <th>60718</th>\n      <td>OWID_SAM</td>\n      <td>NaN</td>\n      <td>South America</td>\n      <td>2021-03-03</td>\n      <td>18203448.0</td>\n      <td>91956.0</td>\n      <td>80799.000</td>\n      <td>472652.0</td>\n      <td>2438.0</td>\n      <td>1934.429</td>\n      <td>...</td>\n      <td>NaN</td>\n      <td>NaN</td>\n      <td>NaN</td>\n      <td>NaN</td>\n      <td>NaN</td>\n      <td>NaN</td>\n      <td>NaN</td>\n      <td>NaN</td>\n      <td>NaN</td>\n      <td>NaN</td>\n    </tr>\n    <tr>\n      <th>60719</th>\n      <td>OWID_SAM</td>\n      <td>NaN</td>\n      <td>South America</td>\n      <td>2021-03-04</td>\n      <td>18304962.0</td>\n      <td>101514.0</td>\n      <td>81622.286</td>\n      <td>475075.0</td>\n      <td>2423.0</td>\n      <td>1959.714</td>\n      <td>...</td>\n      <td>NaN</td>\n      <td>NaN</td>\n      <td>NaN</td>\n      <td>NaN</td>\n      <td>NaN</td>\n      <td>NaN</td>\n      <td>NaN</td>\n      <td>NaN</td>\n      <td>NaN</td>\n      <td>NaN</td>\n    </tr>\n  </tbody>\n</table>\n<p>5 rows × 59 columns</p>\n</div>"
     },
     "metadata": {},
     "execution_count": 9
    }
   ],
   "source": [
    "df.loc[df['location'] == 'South America'].tail(5)"
   ]
  },
  {
   "cell_type": "code",
   "execution_count": 10,
   "metadata": {},
   "outputs": [
    {
     "output_type": "execute_result",
     "data": {
      "text/plain": [
       "array([nan])"
      ]
     },
     "metadata": {},
     "execution_count": 10
    }
   ],
   "source": [
    "#notei que talvez os dados em algumas colunas tenham sido simplesmente abstraidos. vale a pena verificar.\n",
    "sa_df = df.loc[df['location'] == 'South America']\n",
    "sa_df['diabetes_prevalence'].unique()\n"
   ]
  },
  {
   "source": [
    "Como temos a presença de continentes da série temporal, creio que seja válida a separação em camadas, para facilitar a busca, e também para não alterar a semântica da série temporal - o que levaria ao enviesamento."
   ],
   "cell_type": "markdown",
   "metadata": {}
  },
  {
   "cell_type": "code",
   "execution_count": 11,
   "metadata": {},
   "outputs": [],
   "source": [
    "#NOTA: esse processo abaixo não é computacionalmente viável, justamente por criar muitas cópias e o acesso seria totalmente descontrolado. Para fins de ANÁLISE se torna mais pratico(para mim), e não será reutilizaddo em produção. \n",
    "#PS: nao tem America Central meu deus geografia basica \n",
    "continents = {\n",
    "    'NA': df.loc[df['location'] == 'South America'],\n",
    "    'LATAM': df.loc[df['location'] == 'North America'],\n",
    "    'EUR': df.loc[df['location'] == 'Europe'],\n",
    "    'AFR': df.loc[df['location'] == 'Africa'],\n",
    "    'OCE': df.loc[df['location'] == 'Oceania'],\n",
    "    'Asia': df.loc[df['location'] == 'Asia']\n",
    "    }"
   ]
  },
  {
   "cell_type": "code",
   "execution_count": 12,
   "metadata": {
    "tags": []
   },
   "outputs": [
    {
     "output_type": "stream",
     "name": "stdout",
     "text": [
      "NA tem 377 amostras.\nLATAM tem 408 amostras.\nEUR tem 407 amostras.\nAFR tem 386 amostras.\nOCE tem 405 amostras.\nAsia tem 408 amostras.\n"
     ]
    }
   ],
   "source": [
    "#testando \n",
    "\n",
    "for continent, dframe in continents.items():\n",
    "    print(f'{continent} tem {dframe.shape[0]} amostras.')"
   ]
  },
  {
   "source": [
    "Pela quantidade de amostras, aparentemente a quantidade de dados temporais é ***desbalanceada***."
   ],
   "cell_type": "markdown",
   "metadata": {}
  },
  {
   "cell_type": "code",
   "execution_count": 14,
   "metadata": {},
   "outputs": [
    {
     "output_type": "stream",
     "name": "stdout",
     "text": [
      "Afghanistan: 2020-02-24 00:00:00 : 2021-03-04 00:00:00\n",
      "Africa: 2020-02-13 00:00:00 : 2021-03-04 00:00:00\n",
      "Albania: 2020-02-25 00:00:00 : 2021-03-04 00:00:00\n",
      "Algeria: 2020-02-25 00:00:00 : 2021-03-04 00:00:00\n",
      "Andorra: 2020-03-02 00:00:00 : 2021-03-04 00:00:00\n",
      "Angola: 2020-03-20 00:00:00 : 2021-03-04 00:00:00\n",
      "Anguilla: 2021-02-04 00:00:00 : 2021-02-26 00:00:00\n",
      "Antigua and Barbuda: 2020-03-13 00:00:00 : 2021-03-04 00:00:00\n",
      "Argentina: 2020-01-01 00:00:00 : 2021-03-04 00:00:00\n",
      "Armenia: 2020-03-01 00:00:00 : 2021-03-04 00:00:00\n",
      "Asia: 2020-01-22 00:00:00 : 2021-03-04 00:00:00\n",
      "Australia: 2020-01-26 00:00:00 : 2021-03-04 00:00:00\n",
      "Austria: 2020-02-25 00:00:00 : 2021-03-04 00:00:00\n",
      "Azerbaijan: 2020-03-01 00:00:00 : 2021-03-04 00:00:00\n",
      "Bahamas: 2020-03-16 00:00:00 : 2021-03-04 00:00:00\n",
      "Bahrain: 2020-02-24 00:00:00 : 2021-03-04 00:00:00\n",
      "Bangladesh: 2020-03-03 00:00:00 : 2021-03-04 00:00:00\n",
      "Barbados: 2020-03-17 00:00:00 : 2021-03-04 00:00:00\n",
      "Belarus: 2020-02-28 00:00:00 : 2021-03-04 00:00:00\n",
      "Belgium: 2020-02-04 00:00:00 : 2021-03-04 00:00:00\n",
      "Belize: 2020-03-23 00:00:00 : 2021-03-04 00:00:00\n",
      "Benin: 2020-03-16 00:00:00 : 2021-03-04 00:00:00\n",
      "Bermuda: 2021-01-10 00:00:00 : 2021-03-01 00:00:00\n",
      "Bhutan: 2020-03-06 00:00:00 : 2021-03-04 00:00:00\n",
      "Bolivia: 2020-03-11 00:00:00 : 2021-03-04 00:00:00\n",
      "Bosnia and Herzegovina: 2020-03-05 00:00:00 : 2021-03-04 00:00:00\n",
      "Botswana: 2020-03-30 00:00:00 : 2021-03-04 00:00:00\n",
      "Brazil: 2020-02-26 00:00:00 : 2021-03-04 00:00:00\n",
      "Brunei: 2020-03-09 00:00:00 : 2021-03-04 00:00:00\n",
      "Bulgaria: 2020-03-08 00:00:00 : 2021-03-04 00:00:00\n",
      "Burkina Faso: 2020-03-10 00:00:00 : 2021-03-04 00:00:00\n",
      "Burundi: 2020-03-31 00:00:00 : 2021-03-04 00:00:00\n",
      "Cambodia: 2020-01-27 00:00:00 : 2021-03-04 00:00:00\n",
      "Cameroon: 2020-03-06 00:00:00 : 2021-03-04 00:00:00\n",
      "Canada: 2020-01-26 00:00:00 : 2021-03-04 00:00:00\n",
      "Cape Verde: 2020-03-20 00:00:00 : 2021-03-04 00:00:00\n",
      "Cayman Islands: 2020-12-26 00:00:00 : 2021-03-03 00:00:00\n",
      "Central African Republic: 2020-03-15 00:00:00 : 2021-03-04 00:00:00\n",
      "Chad: 2020-03-19 00:00:00 : 2021-03-04 00:00:00\n",
      "Chile: 2020-02-23 00:00:00 : 2021-03-04 00:00:00\n",
      "China: 2020-01-22 00:00:00 : 2021-03-04 00:00:00\n",
      "Colombia: 2020-03-06 00:00:00 : 2021-03-04 00:00:00\n",
      "Comoros: 2020-04-30 00:00:00 : 2021-03-04 00:00:00\n",
      "Congo: 2020-03-15 00:00:00 : 2021-03-04 00:00:00\n",
      "Costa Rica: 2020-03-06 00:00:00 : 2021-03-04 00:00:00\n",
      "Cote d'Ivoire: 2020-03-11 00:00:00 : 2021-03-04 00:00:00\n",
      "Croatia: 2020-02-25 00:00:00 : 2021-03-04 00:00:00\n",
      "Cuba: 2020-03-12 00:00:00 : 2021-03-04 00:00:00\n",
      "Cyprus: 2020-03-09 00:00:00 : 2021-03-04 00:00:00\n",
      "Czechia: 2020-02-02 00:00:00 : 2021-03-04 00:00:00\n",
      "Democratic Republic of Congo: 2020-03-11 00:00:00 : 2021-03-04 00:00:00\n",
      "Denmark: 2020-02-02 00:00:00 : 2021-03-04 00:00:00\n",
      "Djibouti: 2020-03-18 00:00:00 : 2021-03-04 00:00:00\n",
      "Dominica: 2020-03-22 00:00:00 : 2021-03-04 00:00:00\n",
      "Dominican Republic: 2020-03-01 00:00:00 : 2021-03-04 00:00:00\n",
      "Ecuador: 2020-03-01 00:00:00 : 2021-03-04 00:00:00\n",
      "Egypt: 2020-02-14 00:00:00 : 2021-03-04 00:00:00\n",
      "El Salvador: 2020-03-19 00:00:00 : 2021-03-04 00:00:00\n",
      "Equatorial Guinea: 2020-03-15 00:00:00 : 2021-03-04 00:00:00\n",
      "Eritrea: 2020-03-21 00:00:00 : 2021-03-04 00:00:00\n",
      "Estonia: 2020-02-12 00:00:00 : 2021-03-04 00:00:00\n",
      "Eswatini: 2020-03-14 00:00:00 : 2021-03-04 00:00:00\n",
      "Ethiopia: 2020-03-13 00:00:00 : 2021-03-04 00:00:00\n",
      "Europe: 2020-01-23 00:00:00 : 2021-03-04 00:00:00\n",
      "European Union: 2020-01-23 00:00:00 : 2021-03-04 00:00:00\n",
      "Faeroe Islands: 2021-01-29 00:00:00 : 2021-03-04 00:00:00\n",
      "Falkland Islands: 2021-02-07 00:00:00 : 2021-02-22 00:00:00\n",
      "Fiji: 2020-01-30 00:00:00 : 2021-03-04 00:00:00\n",
      "Finland: 2020-01-29 00:00:00 : 2021-03-04 00:00:00\n",
      "France: 2020-01-24 00:00:00 : 2021-03-04 00:00:00\n",
      "Gabon: 2020-03-14 00:00:00 : 2021-03-04 00:00:00\n",
      "Gambia: 2020-03-17 00:00:00 : 2021-03-04 00:00:00\n",
      "Georgia: 2020-02-26 00:00:00 : 2021-03-04 00:00:00\n",
      "Germany: 2020-01-27 00:00:00 : 2021-03-04 00:00:00\n",
      "Ghana: 2020-03-14 00:00:00 : 2021-03-04 00:00:00\n",
      "Gibraltar: 2021-01-10 00:00:00 : 2021-03-04 00:00:00\n",
      "Greece: 2020-02-02 00:00:00 : 2021-03-04 00:00:00\n",
      "Greenland: 2021-01-27 00:00:00 : 2021-03-01 00:00:00\n",
      "Grenada: 2020-03-22 00:00:00 : 2021-03-04 00:00:00\n",
      "Guatemala: 2020-02-17 00:00:00 : 2021-03-04 00:00:00\n",
      "Guernsey: 2021-01-24 00:00:00 : 2021-03-02 00:00:00\n",
      "Guinea: 2020-03-13 00:00:00 : 2021-03-04 00:00:00\n",
      "Guinea-Bissau: 2020-03-25 00:00:00 : 2021-03-04 00:00:00\n",
      "Guyana: 2020-03-12 00:00:00 : 2021-03-04 00:00:00\n",
      "Haiti: 2020-03-20 00:00:00 : 2021-03-04 00:00:00\n",
      "Honduras: 2020-03-11 00:00:00 : 2021-03-04 00:00:00\n",
      "Hong Kong: 2020-01-31 00:00:00 : 2021-03-03 00:00:00\n",
      "Hungary: 2020-03-04 00:00:00 : 2021-03-04 00:00:00\n",
      "Iceland: 2020-02-09 00:00:00 : 2021-03-04 00:00:00\n",
      "India: 2020-01-30 00:00:00 : 2021-03-04 00:00:00\n",
      "Indonesia: 2020-03-02 00:00:00 : 2021-03-04 00:00:00\n",
      "International: 2020-02-07 00:00:00 : 2021-03-04 00:00:00\n",
      "Iran: 2020-02-19 00:00:00 : 2021-03-04 00:00:00\n",
      "Iraq: 2020-02-24 00:00:00 : 2021-03-04 00:00:00\n",
      "Ireland: 2020-02-29 00:00:00 : 2021-03-04 00:00:00\n",
      "Isle of Man: 2021-01-21 00:00:00 : 2021-03-04 00:00:00\n",
      "Israel: 2020-02-20 00:00:00 : 2021-03-04 00:00:00\n",
      "Italy: 2020-01-31 00:00:00 : 2021-03-04 00:00:00\n",
      "Jamaica: 2020-03-11 00:00:00 : 2021-03-04 00:00:00\n",
      "Japan: 2020-01-22 00:00:00 : 2021-03-04 00:00:00\n",
      "Jersey: 2021-01-24 00:00:00 : 2021-02-28 00:00:00\n",
      "Jordan: 2020-03-03 00:00:00 : 2021-03-04 00:00:00\n",
      "Kazakhstan: 2020-03-13 00:00:00 : 2021-03-04 00:00:00\n",
      "Kenya: 2020-03-06 00:00:00 : 2021-03-04 00:00:00\n",
      "Kosovo: 2020-03-14 00:00:00 : 2021-03-04 00:00:00\n",
      "Kuwait: 2020-02-24 00:00:00 : 2021-03-04 00:00:00\n",
      "Kyrgyzstan: 2020-03-18 00:00:00 : 2021-03-04 00:00:00\n",
      "Laos: 2020-03-24 00:00:00 : 2021-03-04 00:00:00\n",
      "Latvia: 2020-02-02 00:00:00 : 2021-03-04 00:00:00\n",
      "Lebanon: 2020-02-21 00:00:00 : 2021-03-04 00:00:00\n",
      "Lesotho: 2020-05-13 00:00:00 : 2021-03-04 00:00:00\n",
      "Liberia: 2020-03-16 00:00:00 : 2021-03-04 00:00:00\n",
      "Libya: 2020-03-04 00:00:00 : 2021-03-04 00:00:00\n",
      "Liechtenstein: 2020-03-04 00:00:00 : 2021-03-04 00:00:00\n",
      "Lithuania: 2020-02-23 00:00:00 : 2021-03-04 00:00:00\n",
      "Luxembourg: 2020-02-24 00:00:00 : 2021-03-04 00:00:00\n",
      "Macao: 2021-02-08 00:00:00 : 2021-02-18 00:00:00\n",
      "Madagascar: 2020-03-20 00:00:00 : 2021-03-04 00:00:00\n",
      "Malawi: 2020-03-29 00:00:00 : 2021-03-04 00:00:00\n",
      "Malaysia: 2020-01-25 00:00:00 : 2021-03-04 00:00:00\n",
      "Maldives: 2020-03-08 00:00:00 : 2021-03-04 00:00:00\n",
      "Mali: 2020-03-25 00:00:00 : 2021-03-04 00:00:00\n",
      "Malta: 2020-02-06 00:00:00 : 2021-03-04 00:00:00\n",
      "Marshall Islands: 2020-10-28 00:00:00 : 2021-03-04 00:00:00\n",
      "Mauritania: 2020-03-14 00:00:00 : 2021-03-04 00:00:00\n",
      "Mauritius: 2020-03-18 00:00:00 : 2021-03-04 00:00:00\n",
      "Mexico: 2020-01-01 00:00:00 : 2021-03-04 00:00:00\n",
      "Micronesia (country): 2021-01-21 00:00:00 : 2021-03-04 00:00:00\n",
      "Moldova: 2020-03-08 00:00:00 : 2021-03-04 00:00:00\n",
      "Monaco: 2020-02-29 00:00:00 : 2021-03-04 00:00:00\n",
      "Mongolia: 2020-03-10 00:00:00 : 2021-03-04 00:00:00\n",
      "Montenegro: 2020-03-17 00:00:00 : 2021-03-04 00:00:00\n",
      "Montserrat: 2021-02-08 00:00:00 : 2021-02-23 00:00:00\n",
      "Morocco: 2020-02-07 00:00:00 : 2021-03-04 00:00:00\n",
      "Mozambique: 2020-03-22 00:00:00 : 2021-03-04 00:00:00\n",
      "Myanmar: 2020-03-27 00:00:00 : 2021-03-04 00:00:00\n",
      "Namibia: 2020-03-14 00:00:00 : 2021-03-04 00:00:00\n",
      "Nepal: 2020-01-25 00:00:00 : 2021-03-04 00:00:00\n",
      "Netherlands: 2020-02-09 00:00:00 : 2021-03-04 00:00:00\n",
      "New Zealand: 2020-02-28 00:00:00 : 2021-03-04 00:00:00\n",
      "Nicaragua: 2020-03-19 00:00:00 : 2021-03-04 00:00:00\n",
      "Niger: 2020-03-20 00:00:00 : 2021-03-04 00:00:00\n",
      "Nigeria: 2020-02-28 00:00:00 : 2021-03-04 00:00:00\n",
      "North America: 2020-01-22 00:00:00 : 2021-03-04 00:00:00\n",
      "North Macedonia: 2020-02-26 00:00:00 : 2021-03-04 00:00:00\n",
      "Northern Cyprus: 2021-01-14 00:00:00 : 2021-01-22 00:00:00\n",
      "Norway: 2020-02-23 00:00:00 : 2021-03-04 00:00:00\n",
      "Oceania: 2020-01-25 00:00:00 : 2021-03-04 00:00:00\n",
      "Oman: 2020-02-24 00:00:00 : 2021-03-04 00:00:00\n",
      "Pakistan: 2020-02-25 00:00:00 : 2021-03-04 00:00:00\n",
      "Palestine: 2020-03-05 00:00:00 : 2021-03-04 00:00:00\n",
      "Panama: 2020-03-09 00:00:00 : 2021-03-04 00:00:00\n",
      "Papua New Guinea: 2020-03-20 00:00:00 : 2021-03-04 00:00:00\n",
      "Paraguay: 2020-03-07 00:00:00 : 2021-03-04 00:00:00\n",
      "Peru: 2020-03-06 00:00:00 : 2021-03-04 00:00:00\n",
      "Philippines: 2020-01-30 00:00:00 : 2021-03-04 00:00:00\n",
      "Poland: 2020-03-04 00:00:00 : 2021-03-04 00:00:00\n",
      "Portugal: 2020-02-02 00:00:00 : 2021-03-04 00:00:00\n",
      "Qatar: 2020-02-29 00:00:00 : 2021-03-04 00:00:00\n",
      "Romania: 2020-02-26 00:00:00 : 2021-03-04 00:00:00\n",
      "Russia: 2020-01-31 00:00:00 : 2021-03-04 00:00:00\n",
      "Rwanda: 2020-03-14 00:00:00 : 2021-03-04 00:00:00\n",
      "Saint Helena: 2021-02-03 00:00:00 : 2021-02-03 00:00:00\n",
      "Saint Kitts and Nevis: 2020-03-25 00:00:00 : 2021-03-04 00:00:00\n",
      "Saint Lucia: 2020-03-14 00:00:00 : 2021-03-04 00:00:00\n",
      "Saint Vincent and the Grenadines: 2020-03-14 00:00:00 : 2021-03-04 00:00:00\n",
      "Samoa: 2020-11-18 00:00:00 : 2021-03-04 00:00:00\n",
      "San Marino: 2020-02-27 00:00:00 : 2021-03-04 00:00:00\n",
      "Sao Tome and Principe: 2020-04-06 00:00:00 : 2021-03-04 00:00:00\n",
      "Saudi Arabia: 2020-03-02 00:00:00 : 2021-03-04 00:00:00\n",
      "Senegal: 2020-02-28 00:00:00 : 2021-03-04 00:00:00\n",
      "Serbia: 2020-02-26 00:00:00 : 2021-03-04 00:00:00\n",
      "Seychelles: 2020-03-14 00:00:00 : 2021-03-04 00:00:00\n",
      "Sierra Leone: 2020-03-31 00:00:00 : 2021-03-04 00:00:00\n",
      "Singapore: 2020-01-23 00:00:00 : 2021-03-04 00:00:00\n",
      "Slovakia: 2020-03-06 00:00:00 : 2021-03-04 00:00:00\n",
      "Slovenia: 2020-02-02 00:00:00 : 2021-03-04 00:00:00\n",
      "Solomon Islands: 2020-10-12 00:00:00 : 2021-03-04 00:00:00\n",
      "Somalia: 2020-03-16 00:00:00 : 2021-03-04 00:00:00\n",
      "South Africa: 2020-02-07 00:00:00 : 2021-03-04 00:00:00\n",
      "South America: 2020-02-22 00:00:00 : 2021-03-04 00:00:00\n",
      "South Korea: 2020-01-21 00:00:00 : 2021-03-04 00:00:00\n",
      "South Sudan: 2020-04-05 00:00:00 : 2021-03-04 00:00:00\n",
      "Spain: 2020-02-01 00:00:00 : 2021-03-04 00:00:00\n",
      "Sri Lanka: 2020-01-27 00:00:00 : 2021-03-04 00:00:00\n",
      "Sudan: 2020-03-12 00:00:00 : 2021-03-04 00:00:00\n",
      "Suriname: 2020-03-14 00:00:00 : 2021-03-04 00:00:00\n",
      "Sweden: 2020-02-01 00:00:00 : 2021-03-04 00:00:00\n",
      "Switzerland: 2020-01-24 00:00:00 : 2021-03-04 00:00:00\n",
      "Syria: 2020-03-22 00:00:00 : 2021-03-04 00:00:00\n",
      "Taiwan: 2020-01-16 00:00:00 : 2021-03-04 00:00:00\n",
      "Tajikistan: 2020-04-30 00:00:00 : 2021-03-04 00:00:00\n",
      "Tanzania: 2020-03-16 00:00:00 : 2021-03-04 00:00:00\n",
      "Thailand: 2020-01-04 00:00:00 : 2021-03-04 00:00:00\n",
      "Timor: 2020-03-22 00:00:00 : 2021-03-04 00:00:00\n",
      "Togo: 2020-03-04 00:00:00 : 2021-03-04 00:00:00\n",
      "Trinidad and Tobago: 2020-03-14 00:00:00 : 2021-03-04 00:00:00\n",
      "Tunisia: 2020-03-04 00:00:00 : 2021-03-04 00:00:00\n",
      "Turkey: 2020-03-11 00:00:00 : 2021-03-04 00:00:00\n",
      "Turks and Caicos Islands: 2021-01-10 00:00:00 : 2021-02-08 00:00:00\n",
      "Uganda: 2020-03-21 00:00:00 : 2021-03-04 00:00:00\n",
      "Ukraine: 2020-03-03 00:00:00 : 2021-03-04 00:00:00\n",
      "United Arab Emirates: 2020-01-29 00:00:00 : 2021-03-04 00:00:00\n",
      "United Kingdom: 2020-01-31 00:00:00 : 2021-03-04 00:00:00\n",
      "United States: 2020-01-22 00:00:00 : 2021-03-04 00:00:00\n",
      "Uruguay: 2020-03-13 00:00:00 : 2021-03-04 00:00:00\n",
      "Uzbekistan: 2020-03-15 00:00:00 : 2021-03-04 00:00:00\n",
      "Vanuatu: 2020-11-10 00:00:00 : 2021-03-04 00:00:00\n",
      "Vatican: 2020-03-06 00:00:00 : 2021-03-04 00:00:00\n",
      "Venezuela: 2020-03-14 00:00:00 : 2021-03-04 00:00:00\n",
      "Vietnam: 2020-01-23 00:00:00 : 2021-03-04 00:00:00\n",
      "World: 2020-01-22 00:00:00 : 2021-03-04 00:00:00\n",
      "Yemen: 2020-04-10 00:00:00 : 2021-03-04 00:00:00\n",
      "Zambia: 2020-03-18 00:00:00 : 2021-03-04 00:00:00\n",
      "Zimbabwe: 2020-03-20 00:00:00 : 2021-03-04 00:00:00\n"
     ]
    }
   ],
   "source": [
    "#vamos verificar a data inicial e final de cada país.\n",
    "\n",
    "locations = df.location.unique()\n",
    "\n",
    "for l in locations:\n",
    "    dates = df.loc[df['location'] == l]['date']\n",
    "    print(f'{l}: {min(dates)} : {max(dates)}')"
   ]
  },
  {
   "source": [
    "É possível verificar que as datas apesar de estarem num mesmo _range_ temporal, não tem a mesma data inicial e final amostrais."
   ],
   "cell_type": "markdown",
   "metadata": {}
  },
  {
   "cell_type": "code",
   "execution_count": null,
   "metadata": {},
   "outputs": [],
   "source": []
  }
 ]
}